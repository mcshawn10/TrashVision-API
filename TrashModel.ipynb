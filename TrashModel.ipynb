{
 "cells": [
  {
   "cell_type": "code",
   "execution_count": 1,
   "metadata": {},
   "outputs": [
    {
     "data": {
      "text/plain": [
       "True"
      ]
     },
     "execution_count": 1,
     "metadata": {},
     "output_type": "execute_result"
    }
   ],
   "source": [
    "import torch\n",
    "import torchvision\n",
    "import torch.optim as optim\n",
    "import torch.nn as nn\n",
    "torch.cuda.is_available()"
   ]
  },
  {
   "cell_type": "code",
   "execution_count": 2,
   "metadata": {},
   "outputs": [
    {
     "data": {
      "text/plain": [
       "1"
      ]
     },
     "execution_count": 2,
     "metadata": {},
     "output_type": "execute_result"
    }
   ],
   "source": [
    "torch.cuda.device_count()"
   ]
  },
  {
   "cell_type": "code",
   "execution_count": 3,
   "metadata": {},
   "outputs": [],
   "source": [
    "GPU_DEVICE = torch.device('cuda' if torch.cuda.is_available() else 'cpu')"
   ]
  },
  {
   "attachments": {},
   "cell_type": "markdown",
   "metadata": {},
   "source": [
    "## Processing Data"
   ]
  },
  {
   "attachments": {},
   "cell_type": "markdown",
   "metadata": {},
   "source": [
    "dataset credits: https://www.kaggle.com/datasets/mostafaabla/garbage-classification\n"
   ]
  },
  {
   "cell_type": "code",
   "execution_count": 4,
   "metadata": {},
   "outputs": [],
   "source": [
    "import splitfolders"
   ]
  },
  {
   "cell_type": "code",
   "execution_count": 5,
   "metadata": {},
   "outputs": [],
   "source": [
    "trashData = \"TrashData\"\n",
    "\n",
    "# splitfolders.ratio(\"garbage_classification\", trashData, seed=42, ratio = (.8, .2), group_prefix = None)\n"
   ]
  },
  {
   "cell_type": "code",
   "execution_count": 6,
   "metadata": {},
   "outputs": [],
   "source": [
    "# is there a way I can create an input pipeline for the data?\n",
    "# will augment data, etc"
   ]
  },
  {
   "cell_type": "code",
   "execution_count": 7,
   "metadata": {},
   "outputs": [],
   "source": [
    "trashTrainDataPath = \"./TrashData/train\"\n",
    "trashTestDataPath = \"./TrashData/val\""
   ]
  },
  {
   "cell_type": "code",
   "execution_count": 8,
   "metadata": {},
   "outputs": [],
   "source": [
    "import torchvision.transforms as transforms"
   ]
  },
  {
   "cell_type": "code",
   "execution_count": 9,
   "metadata": {},
   "outputs": [],
   "source": [
    "SIZE = (128,128)\n",
    "transform = transforms.Compose(\n",
    "    [transforms.Resize(SIZE),\n",
    "     transforms.ToTensor(),\n",
    "     transforms.Normalize((0.5, 0.5, 0.5), (0.5, 0.5, 0.5))])\n",
    "\n",
    "batch_size = 16"
   ]
  },
  {
   "cell_type": "code",
   "execution_count": 10,
   "metadata": {},
   "outputs": [],
   "source": [
    "train_dataset = torchvision.datasets.ImageFolder(root = trashTrainDataPath, transform = transform)\n",
    "train_loader = torch.utils.data.DataLoader(train_dataset, batch_size=batch_size, shuffle=True)\n"
   ]
  },
  {
   "cell_type": "code",
   "execution_count": 11,
   "metadata": {},
   "outputs": [
    {
     "data": {
      "text/plain": [
       "torch.utils.data.dataloader.DataLoader"
      ]
     },
     "execution_count": 11,
     "metadata": {},
     "output_type": "execute_result"
    }
   ],
   "source": [
    "type(train_loader)"
   ]
  },
  {
   "cell_type": "code",
   "execution_count": 12,
   "metadata": {},
   "outputs": [],
   "source": [
    "test_dataset = torchvision.datasets.ImageFolder(root = trashTestDataPath, transform=transform)\n",
    "test_loader = torch.utils.data.DataLoader(test_dataset, batch_size=batch_size, shuffle=True)"
   ]
  },
  {
   "attachments": {},
   "cell_type": "markdown",
   "metadata": {},
   "source": [
    "## Training the Model"
   ]
  },
  {
   "cell_type": "code",
   "execution_count": 13,
   "metadata": {},
   "outputs": [],
   "source": [
    "from TrashModel import TrashModel"
   ]
  },
  {
   "cell_type": "code",
   "execution_count": 14,
   "metadata": {},
   "outputs": [
    {
     "name": "stderr",
     "output_type": "stream",
     "text": [
      "/home/shawn/.local/lib/python3.10/site-packages/torchvision/models/_utils.py:208: UserWarning: The parameter 'pretrained' is deprecated since 0.13 and may be removed in the future, please use 'weights' instead.\n",
      "  warnings.warn(\n",
      "/home/shawn/.local/lib/python3.10/site-packages/torchvision/models/_utils.py:223: UserWarning: Arguments other than a weight enum or `None` for 'weights' are deprecated since 0.13 and may be removed in the future. The current behavior is equivalent to passing `weights=None`.\n",
      "  warnings.warn(msg)\n",
      "                                                                                        \r"
     ]
    }
   ],
   "source": [
    "trashModel = TrashModel(GPU_DEVICE)\n",
    "trashModel.cuda()\n",
    "trashModel.train_custom_model(train_loader=train_loader)    "
   ]
  },
  {
   "cell_type": "code",
   "execution_count": 27,
   "metadata": {},
   "outputs": [],
   "source": [
    "torch.save(trashModel.state_dict(), './TrainingAccuracyWeights/model1_weights')"
   ]
  },
  {
   "attachments": {},
   "cell_type": "markdown",
   "metadata": {},
   "source": [
    "# Verifying Model"
   ]
  },
  {
   "cell_type": "code",
   "execution_count": 36,
   "metadata": {},
   "outputs": [
    {
     "data": {
      "text/plain": [
       "['biological',\n",
       " 'battery',\n",
       " 'paper',\n",
       " 'clothes',\n",
       " 'trash',\n",
       " 'cardboard',\n",
       " 'shoes',\n",
       " 'plastic',\n",
       " 'green-glass',\n",
       " 'metal',\n",
       " 'white-glass',\n",
       " 'brown-glass']"
      ]
     },
     "execution_count": 36,
     "metadata": {},
     "output_type": "execute_result"
    }
   ],
   "source": [
    "import os\n",
    "\n",
    "# Path to your test directory\n",
    "test_dir = './TrashData/val/'\n",
    "\n",
    "# Get a list of subdirectories (labels)\n",
    "labels = [label for label in os.listdir(test_dir) if os.path.isdir(os.path.join(test_dir, label))]\n",
    "\n",
    "labels = labels[::-1]\n",
    "labels\n"
   ]
  },
  {
   "cell_type": "code",
   "execution_count": 38,
   "metadata": {},
   "outputs": [
    {
     "name": "stderr",
     "output_type": "stream",
     "text": [
      "/home/shawn/.local/lib/python3.10/site-packages/torchvision/models/_utils.py:208: UserWarning: The parameter 'pretrained' is deprecated since 0.13 and may be removed in the future, please use 'weights' instead.\n",
      "  warnings.warn(\n",
      "/home/shawn/.local/lib/python3.10/site-packages/torchvision/models/_utils.py:223: UserWarning: Arguments other than a weight enum or `None` for 'weights' are deprecated since 0.13 and may be removed in the future. The current behavior is equivalent to passing `weights=None`.\n",
      "  warnings.warn(msg)\n"
     ]
    },
    {
     "name": "stdout",
     "output_type": "stream",
     "text": [
      "[tensor(1), tensor(5), tensor(4), tensor(7), tensor(7), tensor(1), tensor(5), tensor(6), tensor(4), tensor(7), tensor(5), tensor(5), tensor(4), tensor(5), tensor(5), tensor(5)]\n",
      "[tensor(0), tensor(4), tensor(0), tensor(10), tensor(4), tensor(4), tensor(4), tensor(0), tensor(10), tensor(8), tensor(10), tensor(10), tensor(8), tensor(9), tensor(10), tensor(0)]\n",
      "[tensor(7), tensor(7), tensor(9), tensor(9), tensor(7), tensor(9), tensor(4), tensor(7), tensor(4), tensor(11), tensor(9), tensor(9), tensor(9), tensor(9), tensor(7), tensor(4)]\n",
      "[tensor(11), tensor(1), tensor(4), tensor(4), tensor(4), tensor(4), tensor(1), tensor(1), tensor(4), tensor(1), tensor(1), tensor(1), tensor(1), tensor(1), tensor(1), tensor(4)]\n",
      "[tensor(0), tensor(7), tensor(7), tensor(4), tensor(4), tensor(7), tensor(7), tensor(7), tensor(7), tensor(1), tensor(0), tensor(7), tensor(4), tensor(0), tensor(7), tensor(3)]\n",
      "[tensor(1), tensor(1), tensor(2), tensor(2), tensor(9), tensor(4), tensor(6), tensor(2), tensor(1), tensor(9), tensor(10), tensor(2), tensor(1), tensor(1), tensor(4), tensor(10)]\n",
      "[tensor(6), tensor(11), tensor(11), tensor(11), tensor(9), tensor(4), tensor(11), tensor(11), tensor(6), tensor(6), tensor(11), tensor(11), tensor(11), tensor(4), tensor(6), tensor(11)]\n",
      "[tensor(8), tensor(8), tensor(1), tensor(5), tensor(9), tensor(7), tensor(7), tensor(9), tensor(1), tensor(7), tensor(11), tensor(1), tensor(0), tensor(9), tensor(1), tensor(4)]\n",
      "[tensor(4), tensor(1), tensor(4), tensor(4), tensor(4), tensor(2), tensor(1), tensor(4), tensor(4), tensor(4), tensor(4), tensor(7), tensor(4), tensor(4), tensor(4), tensor(4)]\n",
      "[tensor(11), tensor(4), tensor(2), tensor(4), tensor(4), tensor(4), tensor(4), tensor(7), tensor(11), tensor(11), tensor(4), tensor(11), tensor(7), tensor(4), tensor(4), tensor(11)]\n",
      "[tensor(2), tensor(4), tensor(4), tensor(3), tensor(1), tensor(10), tensor(10), tensor(2), tensor(9), tensor(10), tensor(9), tensor(4), tensor(2), tensor(10), tensor(2), tensor(1)]\n",
      "[tensor(4), tensor(1), tensor(5), tensor(3), tensor(4), tensor(5), tensor(4), tensor(5), tensor(5), tensor(1), tensor(4), tensor(4), tensor(1), tensor(5), tensor(1), tensor(5)]\n",
      "[tensor(4), tensor(4), tensor(4), tensor(9), tensor(9), tensor(3), tensor(3), tensor(0), tensor(0), tensor(3), tensor(0), tensor(4), tensor(3), tensor(4), tensor(4), tensor(4)]\n",
      "[tensor(6), tensor(4), tensor(6), tensor(6), tensor(10), tensor(6), tensor(4), tensor(4), tensor(9), tensor(6), tensor(6), tensor(6), tensor(4), tensor(9), tensor(4), tensor(4)]\n",
      "[tensor(4), tensor(9), tensor(9), tensor(3), tensor(3), tensor(1), tensor(3), tensor(0), tensor(3), tensor(9), tensor(9), tensor(9), tensor(9), tensor(9), tensor(9), tensor(1)]\n",
      "[tensor(4), tensor(11), tensor(8), tensor(11), tensor(10), tensor(9), tensor(4), tensor(4), tensor(11), tensor(9), tensor(1), tensor(4), tensor(11), tensor(11), tensor(4), tensor(4)]\n",
      "[tensor(8), tensor(0), tensor(4), tensor(8), tensor(4), tensor(4), tensor(0), tensor(3), tensor(9), tensor(9), tensor(6), tensor(9), tensor(8), tensor(9), tensor(4), tensor(8)]\n",
      "[tensor(9), tensor(4), tensor(2), tensor(1), tensor(5), tensor(1), tensor(5), tensor(2), tensor(11), tensor(9), tensor(4), tensor(1), tensor(5), tensor(2), tensor(1), tensor(1)]\n",
      "[tensor(9), tensor(3), tensor(9), tensor(9), tensor(1), tensor(9), tensor(3), tensor(2), tensor(9), tensor(4), tensor(9), tensor(4), tensor(11), tensor(4), tensor(4), tensor(4)]\n",
      "[tensor(0), tensor(4), tensor(4), tensor(4), tensor(4), tensor(8), tensor(9), tensor(4), tensor(4), tensor(4), tensor(4), tensor(4), tensor(4), tensor(4), tensor(4), tensor(4)]\n",
      "[tensor(4), tensor(8), tensor(8), tensor(0), tensor(4), tensor(6), tensor(11), tensor(4), tensor(8), tensor(10), tensor(10), tensor(0), tensor(1), tensor(8), tensor(4), tensor(0)]\n",
      "[tensor(4), tensor(9), tensor(4), tensor(4), tensor(4), tensor(9), tensor(4), tensor(4), tensor(4), tensor(9), tensor(4), tensor(9), tensor(4), tensor(4), tensor(4), tensor(4)]\n",
      "[tensor(0), tensor(1), tensor(8), tensor(4), tensor(8), tensor(4), tensor(9), tensor(4), tensor(8), tensor(8), tensor(10), tensor(3), tensor(8), tensor(3), tensor(0), tensor(8)]\n",
      "[tensor(4), tensor(4), tensor(4), tensor(4), tensor(4), tensor(3), tensor(4), tensor(4), tensor(4), tensor(8), tensor(4), tensor(4), tensor(4), tensor(4), tensor(4), tensor(4)]\n",
      "[tensor(4), tensor(1), tensor(1), tensor(7), tensor(4), tensor(3), tensor(7), tensor(7), tensor(1), tensor(1), tensor(1), tensor(4), tensor(3), tensor(9), tensor(4), tensor(1)]\n",
      "[tensor(4), tensor(0), tensor(4), tensor(4), tensor(4), tensor(2), tensor(4), tensor(4), tensor(4), tensor(8), tensor(6), tensor(4), tensor(6), tensor(4), tensor(4), tensor(4)]\n",
      "[tensor(9), tensor(4), tensor(4), tensor(4), tensor(4), tensor(4), tensor(4), tensor(4), tensor(2), tensor(4), tensor(4), tensor(4), tensor(4), tensor(4), tensor(7), tensor(7)]\n",
      "[tensor(4), tensor(8), tensor(4), tensor(8), tensor(5), tensor(4), tensor(2), tensor(9), tensor(2), tensor(8), tensor(8), tensor(8), tensor(4), tensor(4), tensor(4), tensor(5)]\n",
      "[tensor(0), tensor(4), tensor(4), tensor(10), tensor(4), tensor(4), tensor(4), tensor(9), tensor(4), tensor(4), tensor(4), tensor(2), tensor(4), tensor(4), tensor(4), tensor(0)]\n",
      "[tensor(10), tensor(1), tensor(1), tensor(7), tensor(1), tensor(10), tensor(1), tensor(1), tensor(0), tensor(3), tensor(0), tensor(4), tensor(10), tensor(3), tensor(1), tensor(1)]\n",
      "[tensor(4), tensor(5), tensor(5), tensor(4), tensor(4), tensor(5), tensor(5), tensor(5), tensor(4), tensor(1), tensor(1), tensor(5), tensor(3), tensor(3), tensor(10), tensor(5)]\n",
      "[tensor(5), tensor(7), tensor(5), tensor(10), tensor(3), tensor(5), tensor(4), tensor(5), tensor(4), tensor(5), tensor(7), tensor(5), tensor(3), tensor(7), tensor(7), tensor(4)]\n",
      "[tensor(4), tensor(2), tensor(4), tensor(4), tensor(4), tensor(4), tensor(4), tensor(2), tensor(2), tensor(7), tensor(4), tensor(4), tensor(9), tensor(4), tensor(4), tensor(2)]\n",
      "[tensor(0), tensor(8), tensor(7), tensor(4), tensor(4), tensor(8), tensor(4), tensor(4), tensor(8), tensor(4), tensor(0), tensor(4), tensor(4), tensor(8), tensor(4), tensor(7)]\n",
      "[tensor(6), tensor(7), tensor(0), tensor(9), tensor(6), tensor(0), tensor(1), tensor(4), tensor(0), tensor(5), tensor(9), tensor(9), tensor(1), tensor(4), tensor(4), tensor(0)]\n",
      "[tensor(1), tensor(7), tensor(11), tensor(1), tensor(7), tensor(4), tensor(4), tensor(1), tensor(1), tensor(4), tensor(4), tensor(11), tensor(1), tensor(11), tensor(4), tensor(7)]\n",
      "[tensor(10), tensor(10), tensor(10), tensor(10), tensor(8), tensor(4), tensor(10), tensor(10), tensor(10), tensor(4), tensor(4), tensor(4), tensor(4), tensor(2), tensor(10), tensor(10)]\n",
      "[tensor(10), tensor(10), tensor(11), tensor(11), tensor(4), tensor(7), tensor(7), tensor(2), tensor(7), tensor(0), tensor(10), tensor(11), tensor(11), tensor(0), tensor(0), tensor(11)]\n",
      "[tensor(4), tensor(7), tensor(7), tensor(7), tensor(7), tensor(9), tensor(9), tensor(7), tensor(4), tensor(4), tensor(9), tensor(4), tensor(7), tensor(11), tensor(9), tensor(7)]\n",
      "[tensor(7), tensor(6), tensor(7), tensor(6), tensor(11), tensor(6), tensor(11), tensor(11), tensor(11), tensor(0), tensor(6), tensor(0), tensor(7), tensor(11), tensor(6), tensor(6)]\n",
      "[tensor(9), tensor(10), tensor(10), tensor(9), tensor(4), tensor(4), tensor(4), tensor(4), tensor(4), tensor(4), tensor(4), tensor(4), tensor(9), tensor(4), tensor(10), tensor(8)]\n",
      "[tensor(4), tensor(4), tensor(4), tensor(4), tensor(4), tensor(4), tensor(4), tensor(9), tensor(4), tensor(4), tensor(4), tensor(3), tensor(4), tensor(4), tensor(4), tensor(4)]\n",
      "[tensor(8), tensor(4), tensor(3), tensor(8), tensor(4), tensor(6), tensor(4), tensor(8), tensor(6), tensor(6), tensor(3), tensor(3), tensor(1), tensor(6), tensor(4), tensor(4)]\n",
      "[tensor(9), tensor(4), tensor(9), tensor(4), tensor(4), tensor(9), tensor(9), tensor(3), tensor(8), tensor(9), tensor(0), tensor(4), tensor(8), tensor(4), tensor(9), tensor(4)]\n",
      "[tensor(11), tensor(11), tensor(8), tensor(10), tensor(10), tensor(1), tensor(10), tensor(1), tensor(9), tensor(1), tensor(11), tensor(7), tensor(1), tensor(9), tensor(8), tensor(1)]\n",
      "[tensor(4), tensor(9), tensor(9), tensor(9), tensor(3), tensor(4), tensor(4), tensor(11), tensor(7), tensor(4), tensor(3), tensor(3), tensor(1), tensor(9), tensor(9), tensor(7)]\n",
      "[tensor(4), tensor(5), tensor(10), tensor(4), tensor(4), tensor(4), tensor(4), tensor(4), tensor(4), tensor(4), tensor(4), tensor(0), tensor(4), tensor(9), tensor(4), tensor(4)]\n",
      "[tensor(7), tensor(4), tensor(4), tensor(4), tensor(4), tensor(4), tensor(4), tensor(7), tensor(7), tensor(4), tensor(10), tensor(4), tensor(0), tensor(4), tensor(4), tensor(7)]\n",
      "[tensor(0), tensor(5), tensor(1), tensor(0), tensor(3), tensor(5), tensor(0), tensor(3), tensor(4), tensor(8), tensor(4), tensor(4), tensor(3), tensor(0), tensor(4), tensor(4)]\n",
      "[tensor(8), tensor(9), tensor(4), tensor(1), tensor(4), tensor(8), tensor(8), tensor(0), tensor(4), tensor(4), tensor(4), tensor(4), tensor(4), tensor(4), tensor(1), tensor(4)]\n",
      "[tensor(6), tensor(7), tensor(4), tensor(4), tensor(4), tensor(4), tensor(3), tensor(4), tensor(3), tensor(7), tensor(10), tensor(10), tensor(4), tensor(10), tensor(1), tensor(4)]\n",
      "[tensor(2), tensor(4), tensor(4), tensor(4), tensor(4), tensor(4), tensor(4), tensor(4), tensor(4), tensor(4), tensor(4), tensor(2), tensor(4), tensor(10), tensor(4), tensor(10)]\n",
      "[tensor(8), tensor(4), tensor(3), tensor(3), tensor(4), tensor(9), tensor(3), tensor(4), tensor(2), tensor(9), tensor(4), tensor(9), tensor(4), tensor(4), tensor(9), tensor(4)]\n",
      "[tensor(2), tensor(4), tensor(4), tensor(4), tensor(4), tensor(2), tensor(4), tensor(4), tensor(4), tensor(2), tensor(4), tensor(2), tensor(9), tensor(9), tensor(2), tensor(4)]\n",
      "[tensor(9), tensor(8), tensor(4), tensor(9), tensor(4), tensor(4), tensor(9), tensor(4), tensor(4), tensor(9), tensor(4), tensor(8), tensor(4), tensor(4), tensor(4), tensor(0)]\n"
     ]
    },
    {
     "ename": "KeyboardInterrupt",
     "evalue": "",
     "output_type": "error",
     "traceback": [
      "\u001b[0;31m---------------------------------------------------------------------------\u001b[0m",
      "\u001b[0;31mKeyboardInterrupt\u001b[0m                         Traceback (most recent call last)",
      "Cell \u001b[0;32mIn[38], line 14\u001b[0m\n\u001b[1;32m     11\u001b[0m     \u001b[39mreturn\u001b[39;00m [class_labels[idx] \u001b[39mfor\u001b[39;00m idx \u001b[39min\u001b[39;00m class_indices]\n\u001b[1;32m     13\u001b[0m \u001b[39m# Iterate through test loader batches\u001b[39;00m\n\u001b[0;32m---> 14\u001b[0m \u001b[39mfor\u001b[39;00m inputs, labels \u001b[39min\u001b[39;00m test_loader:\n\u001b[1;32m     15\u001b[0m     \u001b[39mwith\u001b[39;00m torch\u001b[39m.\u001b[39mno_grad():\n\u001b[1;32m     16\u001b[0m         outputs \u001b[39m=\u001b[39m model(inputs)\n",
      "File \u001b[0;32m~/.local/lib/python3.10/site-packages/torch/utils/data/dataloader.py:633\u001b[0m, in \u001b[0;36m_BaseDataLoaderIter.__next__\u001b[0;34m(self)\u001b[0m\n\u001b[1;32m    630\u001b[0m \u001b[39mif\u001b[39;00m \u001b[39mself\u001b[39m\u001b[39m.\u001b[39m_sampler_iter \u001b[39mis\u001b[39;00m \u001b[39mNone\u001b[39;00m:\n\u001b[1;32m    631\u001b[0m     \u001b[39m# TODO(https://github.com/pytorch/pytorch/issues/76750)\u001b[39;00m\n\u001b[1;32m    632\u001b[0m     \u001b[39mself\u001b[39m\u001b[39m.\u001b[39m_reset()  \u001b[39m# type: ignore[call-arg]\u001b[39;00m\n\u001b[0;32m--> 633\u001b[0m data \u001b[39m=\u001b[39m \u001b[39mself\u001b[39;49m\u001b[39m.\u001b[39;49m_next_data()\n\u001b[1;32m    634\u001b[0m \u001b[39mself\u001b[39m\u001b[39m.\u001b[39m_num_yielded \u001b[39m+\u001b[39m\u001b[39m=\u001b[39m \u001b[39m1\u001b[39m\n\u001b[1;32m    635\u001b[0m \u001b[39mif\u001b[39;00m \u001b[39mself\u001b[39m\u001b[39m.\u001b[39m_dataset_kind \u001b[39m==\u001b[39m _DatasetKind\u001b[39m.\u001b[39mIterable \u001b[39mand\u001b[39;00m \\\n\u001b[1;32m    636\u001b[0m         \u001b[39mself\u001b[39m\u001b[39m.\u001b[39m_IterableDataset_len_called \u001b[39mis\u001b[39;00m \u001b[39mnot\u001b[39;00m \u001b[39mNone\u001b[39;00m \u001b[39mand\u001b[39;00m \\\n\u001b[1;32m    637\u001b[0m         \u001b[39mself\u001b[39m\u001b[39m.\u001b[39m_num_yielded \u001b[39m>\u001b[39m \u001b[39mself\u001b[39m\u001b[39m.\u001b[39m_IterableDataset_len_called:\n",
      "File \u001b[0;32m~/.local/lib/python3.10/site-packages/torch/utils/data/dataloader.py:677\u001b[0m, in \u001b[0;36m_SingleProcessDataLoaderIter._next_data\u001b[0;34m(self)\u001b[0m\n\u001b[1;32m    675\u001b[0m \u001b[39mdef\u001b[39;00m \u001b[39m_next_data\u001b[39m(\u001b[39mself\u001b[39m):\n\u001b[1;32m    676\u001b[0m     index \u001b[39m=\u001b[39m \u001b[39mself\u001b[39m\u001b[39m.\u001b[39m_next_index()  \u001b[39m# may raise StopIteration\u001b[39;00m\n\u001b[0;32m--> 677\u001b[0m     data \u001b[39m=\u001b[39m \u001b[39mself\u001b[39;49m\u001b[39m.\u001b[39;49m_dataset_fetcher\u001b[39m.\u001b[39;49mfetch(index)  \u001b[39m# may raise StopIteration\u001b[39;00m\n\u001b[1;32m    678\u001b[0m     \u001b[39mif\u001b[39;00m \u001b[39mself\u001b[39m\u001b[39m.\u001b[39m_pin_memory:\n\u001b[1;32m    679\u001b[0m         data \u001b[39m=\u001b[39m _utils\u001b[39m.\u001b[39mpin_memory\u001b[39m.\u001b[39mpin_memory(data, \u001b[39mself\u001b[39m\u001b[39m.\u001b[39m_pin_memory_device)\n",
      "File \u001b[0;32m~/.local/lib/python3.10/site-packages/torch/utils/data/_utils/fetch.py:51\u001b[0m, in \u001b[0;36m_MapDatasetFetcher.fetch\u001b[0;34m(self, possibly_batched_index)\u001b[0m\n\u001b[1;32m     49\u001b[0m         data \u001b[39m=\u001b[39m \u001b[39mself\u001b[39m\u001b[39m.\u001b[39mdataset\u001b[39m.\u001b[39m__getitems__(possibly_batched_index)\n\u001b[1;32m     50\u001b[0m     \u001b[39melse\u001b[39;00m:\n\u001b[0;32m---> 51\u001b[0m         data \u001b[39m=\u001b[39m [\u001b[39mself\u001b[39m\u001b[39m.\u001b[39mdataset[idx] \u001b[39mfor\u001b[39;00m idx \u001b[39min\u001b[39;00m possibly_batched_index]\n\u001b[1;32m     52\u001b[0m \u001b[39melse\u001b[39;00m:\n\u001b[1;32m     53\u001b[0m     data \u001b[39m=\u001b[39m \u001b[39mself\u001b[39m\u001b[39m.\u001b[39mdataset[possibly_batched_index]\n",
      "File \u001b[0;32m~/.local/lib/python3.10/site-packages/torch/utils/data/_utils/fetch.py:51\u001b[0m, in \u001b[0;36m<listcomp>\u001b[0;34m(.0)\u001b[0m\n\u001b[1;32m     49\u001b[0m         data \u001b[39m=\u001b[39m \u001b[39mself\u001b[39m\u001b[39m.\u001b[39mdataset\u001b[39m.\u001b[39m__getitems__(possibly_batched_index)\n\u001b[1;32m     50\u001b[0m     \u001b[39melse\u001b[39;00m:\n\u001b[0;32m---> 51\u001b[0m         data \u001b[39m=\u001b[39m [\u001b[39mself\u001b[39;49m\u001b[39m.\u001b[39;49mdataset[idx] \u001b[39mfor\u001b[39;00m idx \u001b[39min\u001b[39;00m possibly_batched_index]\n\u001b[1;32m     52\u001b[0m \u001b[39melse\u001b[39;00m:\n\u001b[1;32m     53\u001b[0m     data \u001b[39m=\u001b[39m \u001b[39mself\u001b[39m\u001b[39m.\u001b[39mdataset[possibly_batched_index]\n",
      "File \u001b[0;32m~/.local/lib/python3.10/site-packages/torchvision/datasets/folder.py:229\u001b[0m, in \u001b[0;36mDatasetFolder.__getitem__\u001b[0;34m(self, index)\u001b[0m\n\u001b[1;32m    221\u001b[0m \u001b[39m\u001b[39m\u001b[39m\"\"\"\u001b[39;00m\n\u001b[1;32m    222\u001b[0m \u001b[39mArgs:\u001b[39;00m\n\u001b[1;32m    223\u001b[0m \u001b[39m    index (int): Index\u001b[39;00m\n\u001b[0;32m   (...)\u001b[0m\n\u001b[1;32m    226\u001b[0m \u001b[39m    tuple: (sample, target) where target is class_index of the target class.\u001b[39;00m\n\u001b[1;32m    227\u001b[0m \u001b[39m\"\"\"\u001b[39;00m\n\u001b[1;32m    228\u001b[0m path, target \u001b[39m=\u001b[39m \u001b[39mself\u001b[39m\u001b[39m.\u001b[39msamples[index]\n\u001b[0;32m--> 229\u001b[0m sample \u001b[39m=\u001b[39m \u001b[39mself\u001b[39;49m\u001b[39m.\u001b[39;49mloader(path)\n\u001b[1;32m    230\u001b[0m \u001b[39mif\u001b[39;00m \u001b[39mself\u001b[39m\u001b[39m.\u001b[39mtransform \u001b[39mis\u001b[39;00m \u001b[39mnot\u001b[39;00m \u001b[39mNone\u001b[39;00m:\n\u001b[1;32m    231\u001b[0m     sample \u001b[39m=\u001b[39m \u001b[39mself\u001b[39m\u001b[39m.\u001b[39mtransform(sample)\n",
      "File \u001b[0;32m~/.local/lib/python3.10/site-packages/torchvision/datasets/folder.py:268\u001b[0m, in \u001b[0;36mdefault_loader\u001b[0;34m(path)\u001b[0m\n\u001b[1;32m    266\u001b[0m     \u001b[39mreturn\u001b[39;00m accimage_loader(path)\n\u001b[1;32m    267\u001b[0m \u001b[39melse\u001b[39;00m:\n\u001b[0;32m--> 268\u001b[0m     \u001b[39mreturn\u001b[39;00m pil_loader(path)\n",
      "File \u001b[0;32m~/.local/lib/python3.10/site-packages/torchvision/datasets/folder.py:247\u001b[0m, in \u001b[0;36mpil_loader\u001b[0;34m(path)\u001b[0m\n\u001b[1;32m    244\u001b[0m \u001b[39mdef\u001b[39;00m \u001b[39mpil_loader\u001b[39m(path: \u001b[39mstr\u001b[39m) \u001b[39m-\u001b[39m\u001b[39m>\u001b[39m Image\u001b[39m.\u001b[39mImage:\n\u001b[1;32m    245\u001b[0m     \u001b[39m# open path as file to avoid ResourceWarning (https://github.com/python-pillow/Pillow/issues/835)\u001b[39;00m\n\u001b[1;32m    246\u001b[0m     \u001b[39mwith\u001b[39;00m \u001b[39mopen\u001b[39m(path, \u001b[39m\"\u001b[39m\u001b[39mrb\u001b[39m\u001b[39m\"\u001b[39m) \u001b[39mas\u001b[39;00m f:\n\u001b[0;32m--> 247\u001b[0m         img \u001b[39m=\u001b[39m Image\u001b[39m.\u001b[39;49mopen(f)\n\u001b[1;32m    248\u001b[0m         \u001b[39mreturn\u001b[39;00m img\u001b[39m.\u001b[39mconvert(\u001b[39m\"\u001b[39m\u001b[39mRGB\u001b[39m\u001b[39m\"\u001b[39m)\n",
      "File \u001b[0;32m/usr/lib/python3/dist-packages/PIL/Image.py:2962\u001b[0m, in \u001b[0;36mopen\u001b[0;34m(fp, mode, formats)\u001b[0m\n\u001b[1;32m   2959\u001b[0m     fp \u001b[39m=\u001b[39m io\u001b[39m.\u001b[39mBytesIO(fp\u001b[39m.\u001b[39mread())\n\u001b[1;32m   2960\u001b[0m     exclusive_fp \u001b[39m=\u001b[39m \u001b[39mTrue\u001b[39;00m\n\u001b[0;32m-> 2962\u001b[0m prefix \u001b[39m=\u001b[39m fp\u001b[39m.\u001b[39;49mread(\u001b[39m16\u001b[39;49m)\n\u001b[1;32m   2964\u001b[0m preinit()\n\u001b[1;32m   2966\u001b[0m accept_warnings \u001b[39m=\u001b[39m []\n",
      "\u001b[0;31mKeyboardInterrupt\u001b[0m: "
     ]
    }
   ],
   "source": [
    "\n",
    "\n",
    "# Load the trained model\n",
    "model = TrashModel(GPU_DEVICE)\n",
    "model.load_state_dict(torch.load('./TrainingAccuracyWeights/model1_weights'))\n",
    "model.eval()\n",
    "\n",
    "# Prepare a test data loader\n",
    "#test_loader = torch.utils.data.DataLoader(test_dataset, batch_size=..., shuffle=False)\n",
    "\n",
    "# Define a function to get class labels from class indices\n",
    "def get_class_labels(class_indices,class_labels):\n",
    "    return [class_labels[idx] for idx in class_indices]\n",
    "\n",
    "# Iterate through test loader batches\n",
    "for inputs, labels in test_loader:\n",
    "    with torch.no_grad():\n",
    "        outputs = model(inputs)\n",
    "    \n",
    "    _, predicted_classes = torch.max(outputs, 1)\n",
    "    predicted_labels = get_class_labels(predicted_classes.tolist(), labels)\n",
    "    \n",
    "    # Print or process predicted labels\n",
    "    print(predicted_labels)\n"
   ]
  },
  {
   "attachments": {},
   "cell_type": "markdown",
   "metadata": {},
   "source": [
    "# Benchmarking\n"
   ]
  },
  {
   "cell_type": "code",
   "execution_count": null,
   "metadata": {},
   "outputs": [],
   "source": [
    "import time\n",
    "import numpy as np\n",
    "def benchmark(model, input_shape=(16, 3, 224, 224), dtype='fp32', nwarmup=50, nruns=100):\n",
    "    input_data = torch.randn(input_shape)\n",
    "    input_data = input_data.to(\"cuda\")\n",
    "        \n",
    "    print(\"Warm up ...\")\n",
    "    with torch.no_grad():\n",
    "        for _ in range(nwarmup):\n",
    "            features = model(input_data)\n",
    "    torch.cuda.synchronize()\n",
    "    print(\"Start timing ...\")\n",
    "    timings = []\n",
    "    with torch.no_grad():\n",
    "        for i in range(1, nruns+1):\n",
    "            start_time = time.time()\n",
    "            features = model(input_data)\n",
    "            torch.cuda.synchronize()\n",
    "            end_time = time.time()\n",
    "            timings.append(end_time - start_time)\n",
    "            if i%10==0:\n",
    "                print('Iteration %d/%d, ave batch time %.2f ms'%(i, nruns, np.mean(timings)*1000))\n",
    "\n",
    "    print(\"Input shape:\", input_data.size())\n",
    "    print(\"Output features size:\", features.size())\n",
    "    print('Average batch time: %.2f ms'%(np.mean(timings)*1000))"
   ]
  }
 ],
 "metadata": {
  "kernelspec": {
   "display_name": "Python 3",
   "language": "python",
   "name": "python3"
  },
  "language_info": {
   "codemirror_mode": {
    "name": "ipython",
    "version": 3
   },
   "file_extension": ".py",
   "mimetype": "text/x-python",
   "name": "python",
   "nbconvert_exporter": "python",
   "pygments_lexer": "ipython3",
   "version": "3.10.12 (main, Jun 11 2023, 05:26:28) [GCC 11.4.0]"
  },
  "orig_nbformat": 4,
  "vscode": {
   "interpreter": {
    "hash": "31f2aee4e71d21fbe5cf8b01ff0e069b9275f58929596ceb00d14d90e3e16cd6"
   }
  }
 },
 "nbformat": 4,
 "nbformat_minor": 2
}
